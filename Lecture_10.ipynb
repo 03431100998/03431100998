{
  "nbformat": 4,
  "nbformat_minor": 0,
  "metadata": {
    "colab": {
      "provenance": [],
      "authorship_tag": "ABX9TyOVr4DVj43mMxV1aFqFQ4Du",
      "include_colab_link": true
    },
    "kernelspec": {
      "name": "python3",
      "display_name": "Python 3"
    },
    "language_info": {
      "name": "python"
    }
  },
  "cells": [
    {
      "cell_type": "markdown",
      "metadata": {
        "id": "view-in-github",
        "colab_type": "text"
      },
      "source": [
        "<a href=\"https://colab.research.google.com/github/03431100998/03431100998/blob/main/Lecture_10.ipynb\" target=\"_parent\"><img src=\"https://colab.research.google.com/assets/colab-badge.svg\" alt=\"Open In Colab\"/></a>"
      ]
    },
    {
      "cell_type": "code",
      "execution_count": 2,
      "metadata": {
        "id": "Z0fv-YR_wzwu",
        "colab": {
          "base_uri": "https://localhost:8080/"
        },
        "outputId": "c4095041-7982-4273-ba24-837044144950"
      },
      "outputs": [
        {
          "output_type": "stream",
          "name": "stdout",
          "text": [
            "Students has scored passing grades\n"
          ]
        }
      ],
      "source": [
        "# Assume the sturdent's graade\n",
        "student_score = 64\n",
        "\n",
        "# Check if the grade is equal to or higher than the passing thresahold\n",
        "if student_score <= 67:\n",
        "  # if the condition is true, print a message indicating a apssing grade\n",
        "  print(\"Students has scored passing grades\")\n",
        "else:\n",
        "  print(\" Students has not scoured pasing grades\")"
      ]
    },
    {
      "cell_type": "code",
      "source": [
        "# First example with a positive number\n",
        "positive_num = 1\n",
        "\n",
        "# # Check if the number is greater than 0\n",
        "# if positive_num > 0:\n",
        "#   print(positive_num, \"is a positive number.\")\n",
        "\n",
        "  # Regardless of the condition, this line is always printed\n",
        "negative_num = -1\n",
        "if negative_num < 0:\n",
        "    # Sicne the condition is false, this block is not executed\n",
        "     print(\"This is not a positive number\")"
      ],
      "metadata": {
        "colab": {
          "base_uri": "https://localhost:8080/"
        },
        "id": "TanPqao3GJeX",
        "outputId": "f64b9291-b0fb-4ed4-cd42-ac6fd4814474"
      },
      "execution_count": 11,
      "outputs": [
        {
          "output_type": "stream",
          "name": "stdout",
          "text": [
            "This is not a positive number\n"
          ]
        }
      ]
    },
    {
      "cell_type": "code",
      "source": [
        "# Assume the given number\n",
        "given_num = 9\n",
        "\n",
        "# Check if the number is grater than 6\n",
        "if given_num >6:\n",
        "  # If the condition is true, calculate the square of the number\n",
        "  square_result = given_num * given_num\n",
        "  print(\"The square of \", given_num, \"is:\", square_result)\n",
        "\n",
        "  #Regardless of the condition, this line is always printed\n",
        "  print(\"Nest line of code\")\n"
      ],
      "metadata": {
        "colab": {
          "base_uri": "https://localhost:8080/"
        },
        "id": "F1aPZ_wAI5zC",
        "outputId": "ad256c0a-adf0-4a5e-93a9-0a89bb641309"
      },
      "execution_count": 12,
      "outputs": [
        {
          "output_type": "stream",
          "name": "stdout",
          "text": [
            "The square of  9 is: 81\n",
            "Nest line of code\n"
          ]
        }
      ]
    },
    {
      "cell_type": "markdown",
      "source": [
        "Shortcut for if statement( Short-hand if or one-line if)**bold text**"
      ],
      "metadata": {
        "id": "VMGo6F2RKo4M"
      }
    },
    {
      "cell_type": "code",
      "source": [
        "num1,num2 = 5,6\n",
        "if(num1< num2): print(\"num1 is less than num2\")"
      ],
      "metadata": {
        "colab": {
          "base_uri": "https://localhost:8080/"
        },
        "id": "lJn-QV6qKnMd",
        "outputId": "c16665e5-f15d-44ff-ce26-1d6ed3cd2297"
      },
      "execution_count": 1,
      "outputs": [
        {
          "output_type": "stream",
          "name": "stdout",
          "text": [
            "num1 is less than num2\n"
          ]
        }
      ]
    },
    {
      "cell_type": "code",
      "source": [
        "#Assume two mumber, frist_number and second-number\n",
        "first_number,second_number=5,6\n",
        "if (first_number<second_number): print(first_number, \"is less than\",second_number)"
      ],
      "metadata": {
        "colab": {
          "base_uri": "https://localhost:8080/"
        },
        "id": "gXKVJWBkMyfk",
        "outputId": "86799d59-35bd-4f1a-d756-54bfc8411117"
      },
      "execution_count": 4,
      "outputs": [
        {
          "output_type": "stream",
          "name": "stdout",
          "text": [
            "5 is less than 6\n"
          ]
        }
      ]
    },
    {
      "cell_type": "markdown",
      "source": [
        "If , else in **pythone**\n"
      ],
      "metadata": {
        "id": "-3aewsYmOazz"
      }
    },
    {
      "cell_type": "code",
      "source": [
        "#Assume a comparison value 'comparison_value'\n",
        "comparison_value = 1\n",
        "\n",
        "\n",
        "if comparison_value > 3:\n",
        "  print(\"The value is grater than 3\")\n",
        "\n",
        "  # check if the comparison value is less than or equal to 3\n",
        "if comparison_value <=3:\n",
        "  print(\"The value is less than or equa to 3\")"
      ],
      "metadata": {
        "colab": {
          "base_uri": "https://localhost:8080/"
        },
        "id": "QDK_v1_ON1Hk",
        "outputId": "14966436-9b90-4925-c852-f92b2714ba7d"
      },
      "execution_count": 6,
      "outputs": [
        {
          "output_type": "stream",
          "name": "stdout",
          "text": [
            "The value is less than or equa to 3\n"
          ]
        }
      ]
    },
    {
      "cell_type": "markdown",
      "source": [
        "If .. else condition evaluates"
      ],
      "metadata": {
        "id": "3g31SYQpQAu7"
      }
    },
    {
      "cell_type": "code",
      "source": [
        "# Assume the student's grade\n",
        "student_grade = 60\n",
        "\n",
        "#Check if the student's grade is greater than or equal to the passing threshold\n",
        "if student_grade >=65:\n",
        "  print(\"Student has scored Passing grade\")\n",
        "else:\n",
        "  print(\"Student has scored Failing grade\")\n",
        "\n"
      ],
      "metadata": {
        "colab": {
          "base_uri": "https://localhost:8080/"
        },
        "id": "o-ych2CdQAYi",
        "outputId": "bee02419-a1b5-492d-ea1e-24dac3542931"
      },
      "execution_count": 9,
      "outputs": [
        {
          "output_type": "stream",
          "name": "stdout",
          "text": [
            "Student has scored Failing grade\n"
          ]
        }
      ]
    },
    {
      "cell_type": "code",
      "source": [
        "student_grade = 60\n",
        "if student_grade >= 60: print(\"Student has scored Passing grade\")\n",
        "else: print(\"Student has scored Failing grade\")"
      ],
      "metadata": {
        "colab": {
          "base_uri": "https://localhost:8080/"
        },
        "id": "yf-BDCuuRDV9",
        "outputId": "f47a93d8-25d8-41c5-df54-749efc6d487e"
      },
      "execution_count": 14,
      "outputs": [
        {
          "output_type": "stream",
          "name": "stdout",
          "text": [
            "Student has scored Passing grade\n"
          ]
        }
      ]
    },
    {
      "cell_type": "code",
      "source": [
        "# prompt the user to enter a number\n",
        "given_number = input(\"Please enter any number: \")\n",
        "#given_number = -5\n",
        "# givent_number = 0\n",
        "#Check if the given number is greater than or equal to 0\n",
        "if int(givent_number) > 0:\n",
        "   print(given_number, \"is Positive\")\n",
        "elif int(given_number) == 0:\n",
        "   print(given_number, \"is Zero\")\n",
        "else:\n",
        "   print(given_number, \" is Negative\")"
      ],
      "metadata": {
        "colab": {
          "base_uri": "https://localhost:8080/"
        },
        "id": "ncduzd4sSdox",
        "outputId": "50b55e33-0b2b-4e04-bcd3-ad2327152730"
      },
      "execution_count": 26,
      "outputs": [
        {
          "output_type": "stream",
          "name": "stdout",
          "text": [
            "Please enter any number: 5\n",
            "-5  is Negative\n"
          ]
        }
      ]
    }
  ]
}